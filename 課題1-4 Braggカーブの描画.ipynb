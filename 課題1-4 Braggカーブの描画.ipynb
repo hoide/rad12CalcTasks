{
 "cells": [
  {
   "cell_type": "markdown",
   "id": "enormous-chair",
   "metadata": {},
   "source": [
    "# 放射線１,２　プログラミング課題\n",
    "\n",
    "## 2. Braggカーブの描画\n",
    "\n",
    "前項ではNIST ASTARから生成した運動エネルギーと電離損失の関係式を取り出し，グラフとして描画する例を見ました．\n",
    "\n",
    "改めて再掲すると以下のようになります．"
   ]
  },
  {
   "cell_type": "code",
   "execution_count": 1,
   "id": "strategic-plant",
   "metadata": {},
   "outputs": [
    {
     "data": {
      "image/png": "[encoded data removed]",
      "text/plain": [
       "<Figure size 432x288 with 1 Axes>"
      ]
     },
     "metadata": {
      "needs_background": "light"
     },
     "output_type": "display_data"
    }
   ],
   "source": [
    "# numpyライブラリを取り込み，以下npという名前で略記します\n",
    "import numpy as np\n",
    "\n",
    "# numpy配列をひとつ作り，dataという変数に格納します．arrayとは「配列」の意味です．\n",
    "data = np.array( [] )\n",
    "\n",
    "# 以下はおなじみのファイル入力\n",
    "with open('alpha_air.txt') as f:\n",
    "    for line in f:\n",
    "        strs = line.split()\n",
    "        \n",
    "        # ここでdataにappend()関数を用いて要素を追加します．appendとは「追加する」という意味です．\n",
    "        data = np.append( data, [ float( strs[0] ), float( strs[1] ) ] )\n",
    "        \n",
    "\n",
    "# numpy配列はこのままだと１次元の列なので，これをN行2列の2次元の列に整形します．\n",
    "# 左辺のdataは，結果をdataという変数に再代入するという意味です．\n",
    "data = data.reshape(int(len(data)/2),2 )\n",
    "\n",
    "\n",
    "# matplotlibの中のpyplotというライブラリを取り込み，pltと略記\n",
    "from matplotlib import pyplot as plt\n",
    "\n",
    "# x,y軸をそれぞれ対数軸に変更する\n",
    "plt.yscale('log')\n",
    "plt.xscale('log')\n",
    "\n",
    "# 軸の数字を大きくする\n",
    "plt.xticks(fontsize=15)\n",
    "plt.yticks(fontsize=15)\n",
    "\n",
    "# x,y軸のタイトルを設定する\n",
    "plt.xlabel('Kinetic Energy [MeV]', fontsize=18, fontfamily='serif')\n",
    "plt.ylabel('Energy Loss [MeV cm$^2$ / g]', fontsize=18, fontfamily='serif')\n",
    "\n",
    "# x,y軸の範囲を手動で設定する\n",
    "plt.xlim( (1.e-3, 1.e5) )\n",
    "plt.ylim( (1.0, 1.e5) )\n",
    "\n",
    "\n",
    "# 2次元配列の1要素目（運動エネルギー）だけ取り出した配列を「X軸」，\n",
    "# 2要素目（電離損失）だけ取り出した配列を「Y軸」として指定します．\n",
    "plt.plot(data[:,0],data[:,1], 'k')\n",
    "\n",
    "\n",
    "# 描画する線の意味を表示する\n",
    "plt.legend( ['alpha-ray: Air near sea level'], fontsize=15)\n",
    "plt.show()"
   ]
  },
  {
   "cell_type": "markdown",
   "id": "fifth-chair",
   "metadata": {},
   "source": [
    "今回はこのデータを用いて，実験で霧箱を用いて観察したα線の飛跡や，\n",
    "シンチレータで観察した発光の特徴をシミュレートしてみようと思います．\n",
    "\n",
    "その基本となるのがBragg曲線です．\n",
    "\n",
    "初期運動エネルギーを指定したときのBragg曲線を描画してみましょう．\n",
    "\n",
    "指針となる考え方は以下のようになります．\n",
    "\n",
    "1. 運動エネルギーが $T$ であるときの電離損失の大きさ $dE/dx$ は上のグラフで与えられている．データ点が与えられていない部分は線形補間で求める．\n",
    "1. そのときの位置 $x$ から微小距離 $\\Delta x$ をα線が空気中で失うエネルギー $\\Delta E$ は\n",
    "$\\Delta E = dE/dx(T)\\cdot \\Delta x$\n",
    "である．これを逆に解いて，ある固定した $\\Delta E$ を失うのにかかる飛行距離 $\\Delta x$ を求めることができる．\n",
    "1. 次のステップの位置 $x+\\Delta x$を決める．その位置での運動エネルギーは$T(x) - \\Delta E$である．\n",
    "1. 手順1.から繰り返す．\n",
    "1. 運動エネルギーが十分小さくなった時点で打ち止めにする．\n",
    "1. 位置 $x$ とその位置での電離損失 $dE/dx$ をデータ列として記録し，描画することでBragg曲線を得る．\n",
    "\n",
    "自信のある人はここから独力で実装しても良いですし，\n",
    "以下のヒントを頼りに進めても良いです．"
   ]
  },
  {
   "cell_type": "markdown",
   "id": "addressed-chaos",
   "metadata": {},
   "source": [
    "### 1. 線形補間の関数の作成\n",
    "\n",
    "まず任意の運動エネルギー $T$ に対して，対応する電離損失を補間で求める関数`getdEdx()`を作りましょう．\n",
    "\n",
    "線形補間を行うのに，`numpy`の関数`numpy.interp(x, x_data, y_data)`が使えます．"
   ]
  },
  {
   "cell_type": "code",
   "execution_count": 2,
   "id": "extreme-partnership",
   "metadata": {},
   "outputs": [
    {
     "name": "stdout",
     "output_type": "stream",
     "text": [
      "712.2\n"
     ]
    }
   ],
   "source": [
    "def getdEdx(T):\n",
    "    global data\n",
    "    return np.interp( T, data[:,0], data[:,1])\n",
    "\n",
    "# T = 5.5 MeVのときの dE/dx を表示．\n",
    "print( getdEdx(5.5) )"
   ]
  },
  {
   "cell_type": "markdown",
   "id": "australian-native",
   "metadata": {},
   "source": [
    "### 2. $\\Delta E$の大きさの検討\n",
    "固定した $\\Delta E$ に対する飛行距離 $\\Delta x$を求めたいのですが，$\\Delta E$をどの程度の大きさに選んだら良いでしょうか．\n",
    "$\\Delta E$を大きく取りすぎるとステップが粗すぎて，十分な精度でBragg曲線を描けません．\n",
    "逆に$\\Delta E$が小さすぎると繰り返しの手順が無駄に多すぎて，計算時間が不必要にかかります．\n",
    "\n",
    "初期エネルギーを 5.5 MeV と仮定して，適正な $\\Delta E$を選びます．"
   ]
  },
  {
   "cell_type": "code",
   "execution_count": null,
   "id": "paperback-slave",
   "metadata": {},
   "outputs": [],
   "source": [
    "T  = 5.5 # [MeV]\n",
    "dE = ..."
   ]
  },
  {
   "cell_type": "markdown",
   "id": "adequate-aspect",
   "metadata": {},
   "source": [
    "### 3. 飛行距離 $\\Delta x$の決定\n",
    "\n",
    "ここからは，繰り返しの構造を取るため，以下のような`while`ループで実装します．\n",
    "\n",
    "ただし下のコードは一部が埋められていません．適切に直しましょう．"
   ]
  },
  {
   "cell_type": "code",
   "execution_count": null,
   "id": "eleven-museum",
   "metadata": {},
   "outputs": [],
   "source": [
    "Emin = 1.e-3\n",
    "x = 0\n",
    "\n",
    "# Bragg曲線を表す配列\n",
    "bragg = np.array( [] )\n",
    "\n",
    "# 無限ループ: break条件が必ず必要！\n",
    "while True:\n",
    "    \n",
    "    # 現在の運動エネルギーに対応するdE/dxを求め，\n",
    "    # その時のdxを計算する．\n",
    "    # このとき，\"dE/dx\"のdxは密度で規格化されていることに注意して，\n",
    "    # [cm]の次元を与えるように適切に換算する必要がある．\n",
    "    dEdx = ...\n",
    "    dx = ...\n",
    "    \n",
    "    # Bragg曲線データに追加\n",
    "    bragg = np.append( bragg, [x, dEdx] )\n",
    "    \n",
    "    # 位置 x と運動エネルギー T を更新する．\n",
    "    x += ...\n",
    "    T -= ...\n",
    "\n",
    "    # もし運動エネルギーがEminを下回ったら打ち切る\n",
    "    if T < Emin:\n",
    "        break\n",
    "\n",
    "# データの整形を忘れずに！\n",
    "bragg = bragg.reshape( int(len(bragg)/2), 2 )\n",
    "print( bragg )"
   ]
  },
  {
   "cell_type": "markdown",
   "id": "joined-yield",
   "metadata": {},
   "source": [
    "データが得られればあとはそれを描画するだけです！\n",
    "結果のプロットを提出してください．"
   ]
  }
 ],
 "metadata": {
  "kernelspec": {
   "display_name": "Python 3",
   "language": "python",
   "name": "python3"
  },
  "language_info": {
   "codemirror_mode": {
    "name": "ipython",
    "version": 3
   },
   "file_extension": ".py",
   "mimetype": "text/x-python",
   "name": "python",
   "nbconvert_exporter": "python",
   "pygments_lexer": "ipython3",
   "version": "3.6.8"
  }
 },
 "nbformat": 4,
 "nbformat_minor": 5
}
